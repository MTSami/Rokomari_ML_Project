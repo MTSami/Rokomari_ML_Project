{
 "cells": [
  {
   "cell_type": "code",
   "execution_count": 550,
   "metadata": {},
   "outputs": [],
   "source": [
    "#Libraries\n",
    "import sklearn as sk\n",
    "import pandas as pd\n",
    "import numpy as np\n",
    "import os\n",
    "import matplotlib.pyplot as plt\n",
    "%matplotlib inline\n",
    "import matplotlib\n",
    "import seaborn as sns"
   ]
  },
  {
   "cell_type": "code",
   "execution_count": 551,
   "metadata": {},
   "outputs": [],
   "source": [
    "#Load test data\n",
    "test_path = os.path.join(\"data.test\")\n",
    "test_data = pd.read_csv(test_path, names=['age','rok_index',\n",
    "                                          'rok_summation','promo_value',\n",
    "                                          'event_value','conversion_ratio'])"
   ]
  },
  {
   "cell_type": "code",
   "execution_count": 552,
   "metadata": {},
   "outputs": [],
   "source": [
    "#Load train data\n",
    "train_path = os.path.join(\"data.train\")\n",
    "train_data = pd.read_csv(train_path, names=['age','rok_index',\n",
    "                                            'rok_summation','promo_value',\n",
    "                                            'event_value','conversion_ratio','class'])"
   ]
  },
  {
   "cell_type": "code",
   "execution_count": 199,
   "metadata": {},
   "outputs": [
    {
     "data": {
      "text/html": [
       "<div>\n",
       "<style scoped>\n",
       "    .dataframe tbody tr th:only-of-type {\n",
       "        vertical-align: middle;\n",
       "    }\n",
       "\n",
       "    .dataframe tbody tr th {\n",
       "        vertical-align: top;\n",
       "    }\n",
       "\n",
       "    .dataframe thead th {\n",
       "        text-align: right;\n",
       "    }\n",
       "</style>\n",
       "<table border=\"1\" class=\"dataframe\">\n",
       "  <thead>\n",
       "    <tr style=\"text-align: right;\">\n",
       "      <th></th>\n",
       "      <th>age</th>\n",
       "      <th>rok_index</th>\n",
       "      <th>rok_summation</th>\n",
       "      <th>promo_value</th>\n",
       "      <th>event_value</th>\n",
       "      <th>conversion_ratio</th>\n",
       "      <th>class</th>\n",
       "    </tr>\n",
       "  </thead>\n",
       "  <tbody>\n",
       "    <tr>\n",
       "      <th>0</th>\n",
       "      <td>25</td>\n",
       "      <td>0.08</td>\n",
       "      <td>8777</td>\n",
       "      <td>77</td>\n",
       "      <td>2</td>\n",
       "      <td>28.29</td>\n",
       "      <td>c</td>\n",
       "    </tr>\n",
       "    <tr>\n",
       "      <th>1</th>\n",
       "      <td>28</td>\n",
       "      <td>0.07</td>\n",
       "      <td>3182</td>\n",
       "      <td>34</td>\n",
       "      <td>4</td>\n",
       "      <td>26.76</td>\n",
       "      <td>a</td>\n",
       "    </tr>\n",
       "    <tr>\n",
       "      <th>2</th>\n",
       "      <td>19</td>\n",
       "      <td>0.03</td>\n",
       "      <td>7624</td>\n",
       "      <td>34</td>\n",
       "      <td>0</td>\n",
       "      <td>33.60</td>\n",
       "      <td>b</td>\n",
       "    </tr>\n",
       "    <tr>\n",
       "      <th>3</th>\n",
       "      <td>40</td>\n",
       "      <td>0.05</td>\n",
       "      <td>5443</td>\n",
       "      <td>89</td>\n",
       "      <td>4</td>\n",
       "      <td>31.61</td>\n",
       "      <td>b</td>\n",
       "    </tr>\n",
       "    <tr>\n",
       "      <th>4</th>\n",
       "      <td>16</td>\n",
       "      <td>0.02</td>\n",
       "      <td>1215</td>\n",
       "      <td>89</td>\n",
       "      <td>0</td>\n",
       "      <td>22.34</td>\n",
       "      <td>a</td>\n",
       "    </tr>\n",
       "  </tbody>\n",
       "</table>\n",
       "</div>"
      ],
      "text/plain": [
       "   age  rok_index  rok_summation  promo_value  event_value  conversion_ratio  \\\n",
       "0   25       0.08           8777           77            2             28.29   \n",
       "1   28       0.07           3182           34            4             26.76   \n",
       "2   19       0.03           7624           34            0             33.60   \n",
       "3   40       0.05           5443           89            4             31.61   \n",
       "4   16       0.02           1215           89            0             22.34   \n",
       "\n",
       "  class  \n",
       "0     c  \n",
       "1     a  \n",
       "2     b  \n",
       "3     b  \n",
       "4     a  "
      ]
     },
     "execution_count": 199,
     "metadata": {},
     "output_type": "execute_result"
    }
   ],
   "source": [
    "train_data.head()"
   ]
  },
  {
   "cell_type": "code",
   "execution_count": 200,
   "metadata": {},
   "outputs": [
    {
     "data": {
      "text/html": [
       "<div>\n",
       "<style scoped>\n",
       "    .dataframe tbody tr th:only-of-type {\n",
       "        vertical-align: middle;\n",
       "    }\n",
       "\n",
       "    .dataframe tbody tr th {\n",
       "        vertical-align: top;\n",
       "    }\n",
       "\n",
       "    .dataframe thead th {\n",
       "        text-align: right;\n",
       "    }\n",
       "</style>\n",
       "<table border=\"1\" class=\"dataframe\">\n",
       "  <thead>\n",
       "    <tr style=\"text-align: right;\">\n",
       "      <th></th>\n",
       "      <th>age</th>\n",
       "      <th>rok_index</th>\n",
       "      <th>rok_summation</th>\n",
       "      <th>promo_value</th>\n",
       "      <th>event_value</th>\n",
       "      <th>conversion_ratio</th>\n",
       "    </tr>\n",
       "  </thead>\n",
       "  <tbody>\n",
       "    <tr>\n",
       "      <th>0</th>\n",
       "      <td>18</td>\n",
       "      <td>0.03</td>\n",
       "      <td>7815</td>\n",
       "      <td>12</td>\n",
       "      <td>4</td>\n",
       "      <td>31.89</td>\n",
       "    </tr>\n",
       "    <tr>\n",
       "      <th>1</th>\n",
       "      <td>19</td>\n",
       "      <td>0.06</td>\n",
       "      <td>8468</td>\n",
       "      <td>12</td>\n",
       "      <td>0</td>\n",
       "      <td>24.85</td>\n",
       "    </tr>\n",
       "    <tr>\n",
       "      <th>2</th>\n",
       "      <td>44</td>\n",
       "      <td>0.05</td>\n",
       "      <td>4673</td>\n",
       "      <td>31</td>\n",
       "      <td>1</td>\n",
       "      <td>15.43</td>\n",
       "    </tr>\n",
       "    <tr>\n",
       "      <th>3</th>\n",
       "      <td>34</td>\n",
       "      <td>0.09</td>\n",
       "      <td>3372</td>\n",
       "      <td>56</td>\n",
       "      <td>2</td>\n",
       "      <td>13.58</td>\n",
       "    </tr>\n",
       "    <tr>\n",
       "      <th>4</th>\n",
       "      <td>49</td>\n",
       "      <td>0.04</td>\n",
       "      <td>6077</td>\n",
       "      <td>12</td>\n",
       "      <td>4</td>\n",
       "      <td>32.48</td>\n",
       "    </tr>\n",
       "  </tbody>\n",
       "</table>\n",
       "</div>"
      ],
      "text/plain": [
       "   age  rok_index  rok_summation  promo_value  event_value  conversion_ratio\n",
       "0   18       0.03           7815           12            4             31.89\n",
       "1   19       0.06           8468           12            0             24.85\n",
       "2   44       0.05           4673           31            1             15.43\n",
       "3   34       0.09           3372           56            2             13.58\n",
       "4   49       0.04           6077           12            4             32.48"
      ]
     },
     "execution_count": 200,
     "metadata": {},
     "output_type": "execute_result"
    }
   ],
   "source": [
    "test_data.head()"
   ]
  },
  {
   "cell_type": "markdown",
   "metadata": {},
   "source": [
    "# Milestone_UNO :"
   ]
  },
  {
   "cell_type": "markdown",
   "metadata": {},
   "source": [
    "# 1. What do you think about classification Problem here? What principle will you follow to perform for your approach?\n",
    "\n",
    "\n",
    "\n"
   ]
  },
  {
   "cell_type": "raw",
   "metadata": {},
   "source": [
    "The dataset shows that there are three classes of labelling (ex. a,b,c). Thus, it is a multiclass classsification problem.\n",
    "Since the labelling is not binary, we can take many approach to this problem, we can use algorithms that can inherently do multiclass classification (ex. Decision tree, Naive Bayes,etc), or use One vs All algorithms or use neural nets with one hot encoded labels."
   ]
  },
  {
   "cell_type": "markdown",
   "metadata": {},
   "source": [
    "# 2. Write some of the classification algorithms you might try on this TEST DATASET. Explain the reason why would you use them?"
   ]
  },
  {
   "cell_type": "raw",
   "metadata": {},
   "source": [
    "Algprithms that are inherently multiclass by design are:\n",
    "\n",
    "Decision Tree Classifier\n",
    "Naive Bayes with Gaussian distribution\n",
    "Naive Bayes with Bernoulli distribution\n",
    "K-Neighbors Classifier\n",
    "Linear SVC (setting multi_class=”crammer_singer” in Scikit)\n",
    "Logistic Regression (setting multi_class=”multinomial\" in Scikit)\n",
    "Ensemble based Random Forest Classifiers\n",
    "Linear Ridge Classifier\n",
    "\n",
    "Algoroths that apply OnevsAll method:\n",
    "Ensemble based Gradient Boosting Classifier\n",
    "Gaussian Process Classifier (setting multi_class = “one_vs_rest” in Scikit)\n",
    "Linear Support Vector Classifier (setting multi_class=”ovr” in Scikit)\n",
    "Linear Logistic Regression (setting multi_class=”ovr” in Scikit)"
   ]
  },
  {
   "cell_type": "markdown",
   "metadata": {},
   "source": [
    "# Milestone_DOS :"
   ]
  },
  {
   "cell_type": "markdown",
   "metadata": {},
   "source": [
    "# 1. What do you think about EDA ? How do you perform your EDA on a given data set?"
   ]
  },
  {
   "cell_type": "raw",
   "metadata": {},
   "source": [
    "EDA or Exploratory Data Analysis can be used to used to visualize and find patterns in data. Using the patterns and insights gained from EDA, one can remove redundant or useless features from the dataset, find correlation and indentify the best features for training the most appropiate machine learning model.\n",
    "\n",
    "Basic EDA can be performed with libraires like pandas, numpy, matplotlib, seaborn and scipy. Pandas can be used to load the data in a dataframe and describe its attributes. It can also be used to add, alter or drop tables. Numpy can used to manipulate table as arrays. Matplotlib and seaborn can be used for plotting and visualization "
   ]
  },
  {
   "cell_type": "markdown",
   "metadata": {},
   "source": [
    "# Prepare a simple EDA on “ data.train ”."
   ]
  },
  {
   "cell_type": "code",
   "execution_count": 201,
   "metadata": {},
   "outputs": [
    {
     "data": {
      "text/plain": [
       "<bound method NDFrame.head of      a  b  c\n",
       "0    0  0  1\n",
       "1    1  0  0\n",
       "2    0  1  0\n",
       "3    0  1  0\n",
       "4    1  0  0\n",
       "5    0  0  1\n",
       "6    0  1  0\n",
       "7    0  1  0\n",
       "8    0  1  0\n",
       "9    0  1  0\n",
       "10   0  0  1\n",
       "11   0  0  1\n",
       "12   0  0  1\n",
       "13   0  0  1\n",
       "14   0  0  1\n",
       "15   1  0  0\n",
       "16   1  0  0\n",
       "17   0  0  1\n",
       "18   1  0  0\n",
       "19   0  1  0\n",
       "20   0  1  0\n",
       "21   0  0  1\n",
       "22   0  1  0\n",
       "23   0  1  0\n",
       "24   0  0  1\n",
       "25   0  0  1\n",
       "26   1  0  0\n",
       "27   0  0  1\n",
       "28   1  0  0\n",
       "29   1  0  0\n",
       "..  .. .. ..\n",
       "270  0  0  1\n",
       "271  0  1  0\n",
       "272  1  0  0\n",
       "273  0  1  0\n",
       "274  0  1  0\n",
       "275  0  1  0\n",
       "276  0  1  0\n",
       "277  1  0  0\n",
       "278  0  1  0\n",
       "279  0  0  1\n",
       "280  1  0  0\n",
       "281  0  0  1\n",
       "282  0  1  0\n",
       "283  0  0  1\n",
       "284  0  1  0\n",
       "285  0  1  0\n",
       "286  1  0  0\n",
       "287  1  0  0\n",
       "288  0  1  0\n",
       "289  1  0  0\n",
       "290  0  1  0\n",
       "291  1  0  0\n",
       "292  0  0  1\n",
       "293  0  1  0\n",
       "294  0  1  0\n",
       "295  0  1  0\n",
       "296  0  1  0\n",
       "297  0  1  0\n",
       "298  1  0  0\n",
       "299  1  0  0\n",
       "\n",
       "[300 rows x 3 columns]>"
      ]
     },
     "execution_count": 201,
     "metadata": {},
     "output_type": "execute_result"
    }
   ],
   "source": [
    "# One-hot encode class\n",
    "dummy_class = pd.get_dummies(train_data['class'])\n",
    "dummy_class.head"
   ]
  },
  {
   "cell_type": "code",
   "execution_count": 202,
   "metadata": {},
   "outputs": [
    {
     "data": {
      "text/plain": [
       "<bound method NDFrame.head of      age  rok_index  rok_summation  promo_value  event_value  \\\n",
       "0     25       0.08           8777           77            2   \n",
       "1     28       0.07           3182           34            4   \n",
       "2     19       0.03           7624           34            0   \n",
       "3     40       0.05           5443           89            4   \n",
       "4     16       0.02           1215           89            0   \n",
       "5     38       0.03           8507           34            0   \n",
       "6     15       0.04           8775           78            7   \n",
       "7     39       0.01           5658           31            1   \n",
       "8     30       0.03           4755           12            4   \n",
       "9     32       0.08           3866           61            7   \n",
       "10    48       0.09           3807           67            1   \n",
       "11    49       0.05           1808           77            1   \n",
       "12    42       0.06           1519           12            1   \n",
       "13    16       0.02           2914           61            3   \n",
       "14    21       0.08           1373           42            3   \n",
       "15    26       0.04           4727           34            4   \n",
       "16    38       0.04           6646           34            7   \n",
       "17    33       0.06           4562           31            2   \n",
       "18    46       0.04           3460           34            2   \n",
       "19    45       0.06           3870           89            4   \n",
       "20    22       0.01           1120           34            3   \n",
       "21    25       0.07           3678           34            3   \n",
       "22    15       0.08           8184           78            4   \n",
       "23    40       0.09           3539           61            2   \n",
       "24    35       0.08           5712           77            1   \n",
       "25    46       0.06           6626           78            0   \n",
       "26    42       0.03           2467           13            0   \n",
       "27    20       0.06           1706           34            7   \n",
       "28    26       0.07           7503           34            1   \n",
       "29    20       0.06           1457           89            0   \n",
       "..   ...        ...            ...          ...          ...   \n",
       "270   48       0.05           3502           34            0   \n",
       "271   20       0.05           1812           34            1   \n",
       "272   33       0.09           6860           67            4   \n",
       "273   25       0.07           7935           77            7   \n",
       "274   10       0.08           6001           42            3   \n",
       "275   14       0.09           1857           31            2   \n",
       "276   19       0.07           4222           42            1   \n",
       "277   34       0.03           5712           31            7   \n",
       "278   18       0.08           7149           67            7   \n",
       "279   17       0.07           4077           77            3   \n",
       "280   25       0.07           6133           31            7   \n",
       "281   25       0.03           6729           89            1   \n",
       "282   12       0.03           1441           13            2   \n",
       "283   30       0.01           2711           31            1   \n",
       "284   38       0.06           4294           89            4   \n",
       "285   36       0.09           4447           78            7   \n",
       "286   27       0.07           4056           34            1   \n",
       "287   31       0.07           8109           31            0   \n",
       "288   12       0.06           1967           42            2   \n",
       "289   15       0.04           5063           12            3   \n",
       "290   48       0.06           6767           31            4   \n",
       "291   36       0.07           1645           78            0   \n",
       "292   21       0.02           7561           34            1   \n",
       "293   49       0.09           5091           77            7   \n",
       "294   18       0.07           1703           61            1   \n",
       "295   42       0.03           3292           31            1   \n",
       "296   22       0.03           4834           56            3   \n",
       "297   32       0.02           8548           12            2   \n",
       "298   44       0.02           3773           12            1   \n",
       "299   28       0.08           2000           34            4   \n",
       "\n",
       "     conversion_ratio  a  b  c  \n",
       "0               28.29  0  0  1  \n",
       "1               26.76  1  0  0  \n",
       "2               33.60  0  1  0  \n",
       "3               31.61  0  1  0  \n",
       "4               22.34  1  0  0  \n",
       "5               15.20  0  0  1  \n",
       "6               29.12  0  1  0  \n",
       "7               14.07  0  1  0  \n",
       "8               22.03  0  1  0  \n",
       "9               28.43  0  1  0  \n",
       "10              21.77  0  0  1  \n",
       "11              33.34  0  0  1  \n",
       "12              15.79  0  0  1  \n",
       "13              25.83  0  0  1  \n",
       "14              28.05  0  0  1  \n",
       "15              16.46  1  0  0  \n",
       "16              26.33  1  0  0  \n",
       "17              15.96  0  0  1  \n",
       "18              12.40  1  0  0  \n",
       "19              32.80  0  1  0  \n",
       "20              24.47  0  1  0  \n",
       "21              28.66  0  0  1  \n",
       "22              24.47  0  1  0  \n",
       "23              19.49  0  1  0  \n",
       "24              21.02  0  0  1  \n",
       "25              14.16  0  0  1  \n",
       "26              17.65  1  0  0  \n",
       "27              23.14  0  0  1  \n",
       "28              17.11  1  0  0  \n",
       "29              17.66  1  0  0  \n",
       "..                ... .. .. ..  \n",
       "270             20.53  0  0  1  \n",
       "271             27.45  0  1  0  \n",
       "272             22.81  1  0  0  \n",
       "273             21.00  0  1  0  \n",
       "274             19.63  0  1  0  \n",
       "275             21.62  0  1  0  \n",
       "276             30.85  0  1  0  \n",
       "277             13.81  1  0  0  \n",
       "278             27.13  0  1  0  \n",
       "279             26.30  0  0  1  \n",
       "280             28.48  1  0  0  \n",
       "281             25.34  0  0  1  \n",
       "282             26.03  0  1  0  \n",
       "283             26.96  0  0  1  \n",
       "284             20.66  0  1  0  \n",
       "285             24.49  0  1  0  \n",
       "286             22.47  1  0  0  \n",
       "287             24.47  1  0  0  \n",
       "288             22.18  0  1  0  \n",
       "289             15.29  1  0  0  \n",
       "290             24.94  0  1  0  \n",
       "291             30.44  1  0  0  \n",
       "292             21.21  0  0  1  \n",
       "293             19.13  0  1  0  \n",
       "294             33.82  0  1  0  \n",
       "295             19.94  0  1  0  \n",
       "296             23.16  0  1  0  \n",
       "297             32.97  0  1  0  \n",
       "298             28.87  1  0  0  \n",
       "299             14.64  1  0  0  \n",
       "\n",
       "[300 rows x 9 columns]>"
      ]
     },
     "execution_count": 202,
     "metadata": {},
     "output_type": "execute_result"
    }
   ],
   "source": [
    "#Create dummy_train_data\n",
    "dummy_train_data = train_data\n",
    "dummy_train_data = dummy_train_data.drop(columns='class')\n",
    "frame = [dummy_train_data,dummy_class]\n",
    "dummy_train_data =pd.concat(frame,axis=1)\n",
    "dummy_train_data.head"
   ]
  },
  {
   "cell_type": "code",
   "execution_count": 203,
   "metadata": {},
   "outputs": [
    {
     "data": {
      "text/plain": [
       "<bound method NDFrame.head of      normalized_age  normalized_rok_index  normalized_rok_summation  \\\n",
       "0             0.375                 0.875                  0.976169   \n",
       "1             0.450                 0.750                  0.270710   \n",
       "2             0.225                 0.250                  0.830791   \n",
       "3             0.750                 0.500                  0.555794   \n",
       "4             0.150                 0.125                  0.022696   \n",
       "5             0.700                 0.250                  0.942126   \n",
       "6             0.125                 0.375                  0.975917   \n",
       "7             0.725                 0.000                  0.582903   \n",
       "8             0.500                 0.250                  0.469046   \n",
       "9             0.550                 0.875                  0.356954   \n",
       "10            0.950                 1.000                  0.349515   \n",
       "11            0.975                 0.500                  0.097466   \n",
       "12            0.800                 0.625                  0.061026   \n",
       "13            0.150                 0.125                  0.236918   \n",
       "14            0.275                 0.875                  0.042618   \n",
       "15            0.400                 0.375                  0.465515   \n",
       "16            0.700                 0.375                  0.707477   \n",
       "17            0.575                 0.625                  0.444711   \n",
       "18            0.900                 0.375                  0.305762   \n",
       "19            0.875                 0.625                  0.357458   \n",
       "20            0.300                 0.000                  0.010717   \n",
       "21            0.375                 0.750                  0.333249   \n",
       "22            0.125                 0.875                  0.901400   \n",
       "23            0.750                 1.000                  0.315723   \n",
       "24            0.625                 0.875                  0.589711   \n",
       "25            0.900                 0.625                  0.704955   \n",
       "26            0.800                 0.250                  0.180557   \n",
       "27            0.250                 0.625                  0.084605   \n",
       "28            0.400                 0.750                  0.815534   \n",
       "29            0.250                 0.625                  0.053209   \n",
       "..              ...                   ...                       ...   \n",
       "270           0.950                 0.500                  0.311058   \n",
       "271           0.250                 0.500                  0.097970   \n",
       "272           0.575                 1.000                  0.734460   \n",
       "273           0.375                 0.750                  0.870004   \n",
       "274           0.000                 0.875                  0.626151   \n",
       "275           0.100                 1.000                  0.103644   \n",
       "276           0.225                 0.750                  0.401841   \n",
       "277           0.600                 0.250                  0.589711   \n",
       "278           0.200                 0.875                  0.770899   \n",
       "279           0.175                 0.750                  0.383558   \n",
       "280           0.375                 0.750                  0.642794   \n",
       "281           0.375                 0.250                  0.717942   \n",
       "282           0.050                 0.250                  0.051192   \n",
       "283           0.500                 0.000                  0.211323   \n",
       "284           0.700                 0.625                  0.410919   \n",
       "285           0.650                 1.000                  0.430211   \n",
       "286           0.425                 0.750                  0.380910   \n",
       "287           0.525                 0.750                  0.891943   \n",
       "288           0.050                 0.625                  0.117514   \n",
       "289           0.125                 0.375                  0.507880   \n",
       "290           0.950                 0.625                  0.722734   \n",
       "291           0.650                 0.750                  0.076913   \n",
       "292           0.275                 0.125                  0.822847   \n",
       "293           0.975                 1.000                  0.511411   \n",
       "294           0.200                 0.750                  0.084226   \n",
       "295           0.800                 0.250                  0.284579   \n",
       "296           0.300                 0.250                  0.479006   \n",
       "297           0.550                 0.125                  0.947295   \n",
       "298           0.850                 0.125                  0.345228   \n",
       "299           0.450                 0.875                  0.121674   \n",
       "\n",
       "     normalized_promo_value  normalized_event_value  \\\n",
       "0                  0.844156                0.285714   \n",
       "1                  0.285714                0.571429   \n",
       "2                  0.285714                0.000000   \n",
       "3                  1.000000                0.571429   \n",
       "4                  1.000000                0.000000   \n",
       "5                  0.285714                0.000000   \n",
       "6                  0.857143                1.000000   \n",
       "7                  0.246753                0.142857   \n",
       "8                  0.000000                0.571429   \n",
       "9                  0.636364                1.000000   \n",
       "10                 0.714286                0.142857   \n",
       "11                 0.844156                0.142857   \n",
       "12                 0.000000                0.142857   \n",
       "13                 0.636364                0.428571   \n",
       "14                 0.389610                0.428571   \n",
       "15                 0.285714                0.571429   \n",
       "16                 0.285714                1.000000   \n",
       "17                 0.246753                0.285714   \n",
       "18                 0.285714                0.285714   \n",
       "19                 1.000000                0.571429   \n",
       "20                 0.285714                0.428571   \n",
       "21                 0.285714                0.428571   \n",
       "22                 0.857143                0.571429   \n",
       "23                 0.636364                0.285714   \n",
       "24                 0.844156                0.142857   \n",
       "25                 0.857143                0.000000   \n",
       "26                 0.012987                0.000000   \n",
       "27                 0.285714                1.000000   \n",
       "28                 0.285714                0.142857   \n",
       "29                 1.000000                0.000000   \n",
       "..                      ...                     ...   \n",
       "270                0.285714                0.000000   \n",
       "271                0.285714                0.142857   \n",
       "272                0.714286                0.571429   \n",
       "273                0.844156                1.000000   \n",
       "274                0.389610                0.428571   \n",
       "275                0.246753                0.285714   \n",
       "276                0.389610                0.142857   \n",
       "277                0.246753                1.000000   \n",
       "278                0.714286                1.000000   \n",
       "279                0.844156                0.428571   \n",
       "280                0.246753                1.000000   \n",
       "281                1.000000                0.142857   \n",
       "282                0.012987                0.285714   \n",
       "283                0.246753                0.142857   \n",
       "284                1.000000                0.571429   \n",
       "285                0.857143                1.000000   \n",
       "286                0.285714                0.142857   \n",
       "287                0.246753                0.000000   \n",
       "288                0.389610                0.285714   \n",
       "289                0.000000                0.428571   \n",
       "290                0.246753                0.571429   \n",
       "291                0.857143                0.000000   \n",
       "292                0.285714                0.142857   \n",
       "293                0.844156                1.000000   \n",
       "294                0.636364                0.142857   \n",
       "295                0.246753                0.142857   \n",
       "296                0.571429                0.428571   \n",
       "297                0.000000                0.285714   \n",
       "298                0.000000                0.142857   \n",
       "299                0.285714                0.571429   \n",
       "\n",
       "     normalized_conversion_ratio    a    b    c  \n",
       "0                       0.719605  0.0  0.0  1.0  \n",
       "1                       0.650965  1.0  0.0  0.0  \n",
       "2                       0.957829  0.0  1.0  0.0  \n",
       "3                       0.868551  0.0  1.0  0.0  \n",
       "4                       0.452669  1.0  0.0  0.0  \n",
       "5                       0.132346  0.0  0.0  1.0  \n",
       "6                       0.756842  0.0  1.0  0.0  \n",
       "7                       0.081651  0.0  1.0  0.0  \n",
       "8                       0.438762  0.0  1.0  0.0  \n",
       "9                       0.725886  0.0  1.0  0.0  \n",
       "10                      0.427097  0.0  0.0  1.0  \n",
       "11                      0.946164  0.0  0.0  1.0  \n",
       "12                      0.158816  0.0  0.0  1.0  \n",
       "13                      0.609242  0.0  0.0  1.0  \n",
       "14                      0.708838  0.0  0.0  1.0  \n",
       "15                      0.188874  1.0  0.0  0.0  \n",
       "16                      0.631673  1.0  0.0  0.0  \n",
       "17                      0.166442  0.0  0.0  1.0  \n",
       "18                      0.006729  1.0  0.0  0.0  \n",
       "19                      0.921938  0.0  1.0  0.0  \n",
       "20                      0.548228  0.0  1.0  0.0  \n",
       "21                      0.736205  0.0  0.0  1.0  \n",
       "22                      0.548228  0.0  1.0  0.0  \n",
       "23                      0.324809  0.0  1.0  0.0  \n",
       "24                      0.393450  0.0  0.0  1.0  \n",
       "25                      0.085689  0.0  0.0  1.0  \n",
       "26                      0.242261  1.0  0.0  0.0  \n",
       "27                      0.488560  0.0  0.0  1.0  \n",
       "28                      0.218035  1.0  0.0  0.0  \n",
       "29                      0.242710  1.0  0.0  0.0  \n",
       "..                           ...  ...  ...  ...  \n",
       "270                     0.371467  0.0  0.0  1.0  \n",
       "271                     0.681920  0.0  1.0  0.0  \n",
       "272                     0.473755  1.0  0.0  0.0  \n",
       "273                     0.392553  0.0  1.0  0.0  \n",
       "274                     0.331090  0.0  1.0  0.0  \n",
       "275                     0.420368  0.0  1.0  0.0  \n",
       "276                     0.834455  0.0  1.0  0.0  \n",
       "277                     0.069987  1.0  0.0  0.0  \n",
       "278                     0.667564  0.0  1.0  0.0  \n",
       "279                     0.630328  0.0  0.0  1.0  \n",
       "280                     0.728129  1.0  0.0  0.0  \n",
       "281                     0.587259  0.0  0.0  1.0  \n",
       "282                     0.618214  0.0  1.0  0.0  \n",
       "283                     0.659937  0.0  0.0  1.0  \n",
       "284                     0.377299  0.0  1.0  0.0  \n",
       "285                     0.549125  0.0  1.0  0.0  \n",
       "286                     0.458502  1.0  0.0  0.0  \n",
       "287                     0.548228  1.0  0.0  0.0  \n",
       "288                     0.445491  0.0  1.0  0.0  \n",
       "289                     0.136384  1.0  0.0  0.0  \n",
       "290                     0.569314  0.0  1.0  0.0  \n",
       "291                     0.816061  1.0  0.0  0.0  \n",
       "292                     0.401974  0.0  0.0  1.0  \n",
       "293                     0.308659  0.0  1.0  0.0  \n",
       "294                     0.967699  0.0  1.0  0.0  \n",
       "295                     0.344998  0.0  1.0  0.0  \n",
       "296                     0.489457  0.0  1.0  0.0  \n",
       "297                     0.929565  0.0  1.0  0.0  \n",
       "298                     0.745626  1.0  0.0  0.0  \n",
       "299                     0.107223  1.0  0.0  0.0  \n",
       "\n",
       "[300 rows x 9 columns]>"
      ]
     },
     "execution_count": 203,
     "metadata": {},
     "output_type": "execute_result"
    }
   ],
   "source": [
    "#Normalize the dummy training dataset\n",
    "from sklearn import preprocessing\n",
    "\n",
    "normalized_train_data = preprocessing.MinMaxScaler().fit_transform(dummy_df.values)\n",
    "\n",
    "normalized_train_data = pd.DataFrame(normalized_train_data)\n",
    "normalized_train_data.columns=['normalized_age','normalized_rok_index','normalized_rok_summation',\n",
    "                              'normalized_promo_value','normalized_event_value','normalized_conversion_ratio',\n",
    "                              'a','b','c']\n",
    "normalized_train_data.head"
   ]
  },
  {
   "cell_type": "code",
   "execution_count": 204,
   "metadata": {},
   "outputs": [
    {
     "data": {
      "text/plain": [
       "<bound method NDFrame.head of      normalized_age  normalized_rok_index  normalized_rok_summation  \\\n",
       "0             0.200                 0.250                  0.852344   \n",
       "1             0.225                 0.625                  0.934194   \n",
       "2             0.850                 0.500                  0.458511   \n",
       "3             0.600                 1.000                  0.295437   \n",
       "4             0.975                 0.375                  0.634495   \n",
       "5             0.725                 0.125                  0.008398   \n",
       "6             0.250                 0.875                  0.703685   \n",
       "7             0.500                 0.375                  0.707571   \n",
       "8             0.925                 0.375                  0.450740   \n",
       "9             0.250                 0.750                  0.667837   \n",
       "10            0.475                 0.125                  0.051642   \n",
       "11            0.625                 0.250                  0.850338   \n",
       "12            0.800                 0.250                  0.673352   \n",
       "13            0.100                 0.875                  0.552269   \n",
       "14            1.000                 0.500                  0.588493   \n",
       "15            0.950                 0.875                  0.120832   \n",
       "16            0.225                 0.875                  0.927676   \n",
       "17            0.350                 0.500                  0.661319   \n",
       "18            0.500                 0.375                  0.142392   \n",
       "19            0.550                 0.500                  0.071948   \n",
       "20            0.700                 0.250                  0.782026   \n",
       "21            0.450                 0.000                  0.113813   \n",
       "22            0.025                 0.875                  0.274004   \n",
       "23            0.650                 0.750                  0.370268   \n",
       "24            0.425                 0.000                  0.346829   \n",
       "25            0.150                 1.000                  0.476059   \n",
       "26            0.975                 0.375                  0.819754   \n",
       "27            0.600                 0.625                  0.083480   \n",
       "28            0.125                 0.250                  0.000000   \n",
       "29            0.350                 0.375                  0.036977   \n",
       "..              ...                   ...                       ...   \n",
       "120           0.900                 0.625                  0.444848   \n",
       "121           0.600                 0.375                  0.866383   \n",
       "122           0.050                 0.125                  0.407997   \n",
       "123           0.850                 0.000                  0.077588   \n",
       "124           0.400                 0.875                  1.000000   \n",
       "125           0.250                 0.750                  0.801579   \n",
       "126           0.250                 0.750                  0.478190   \n",
       "127           0.925                 0.875                  0.959138   \n",
       "128           0.475                 0.500                  0.299448   \n",
       "129           0.425                 0.750                  0.200677   \n",
       "130           0.225                 0.875                  0.093131   \n",
       "131           0.825                 0.125                  0.873903   \n",
       "132           0.450                 0.125                  0.923289   \n",
       "133           0.100                 0.625                  0.425671   \n",
       "134           0.350                 0.625                  0.995488   \n",
       "135           0.850                 0.250                  0.001379   \n",
       "136           0.875                 0.250                  0.620080   \n",
       "137           0.450                 0.000                  0.431812   \n",
       "138           0.850                 0.125                  0.858235   \n",
       "139           0.600                 0.625                  0.018050   \n",
       "140           0.625                 0.500                  0.294435   \n",
       "141           0.200                 0.500                  0.757583   \n",
       "142           0.775                 0.125                  0.475808   \n",
       "143           0.625                 0.750                  0.000877   \n",
       "144           0.800                 0.625                  0.077463   \n",
       "145           0.000                 0.625                  0.079594   \n",
       "146           0.875                 0.625                  0.996992   \n",
       "147           0.800                 0.250                  0.814114   \n",
       "148           0.975                 0.500                  0.852093   \n",
       "149           0.875                 0.625                  0.726498   \n",
       "\n",
       "     normalized_promo_value  normalized_event_value  \\\n",
       "0                  0.000000                0.571429   \n",
       "1                  0.000000                0.000000   \n",
       "2                  0.246753                0.142857   \n",
       "3                  0.571429                0.285714   \n",
       "4                  0.000000                0.571429   \n",
       "5                  0.246753                0.285714   \n",
       "6                  0.389610                0.571429   \n",
       "7                  0.000000                0.571429   \n",
       "8                  0.389610                0.142857   \n",
       "9                  0.285714                0.428571   \n",
       "10                 0.571429                0.571429   \n",
       "11                 1.000000                0.571429   \n",
       "12                 0.285714                0.428571   \n",
       "13                 0.285714                0.000000   \n",
       "14                 0.000000                0.428571   \n",
       "15                 1.000000                1.000000   \n",
       "16                 0.714286                0.000000   \n",
       "17                 0.000000                1.000000   \n",
       "18                 0.844156                0.000000   \n",
       "19                 0.285714                0.142857   \n",
       "20                 0.857143                0.285714   \n",
       "21                 0.714286                0.428571   \n",
       "22                 1.000000                0.142857   \n",
       "23                 0.571429                0.142857   \n",
       "24                 0.000000                0.142857   \n",
       "25                 0.844156                0.285714   \n",
       "26                 0.285714                0.285714   \n",
       "27                 0.857143                0.142857   \n",
       "28                 0.636364                0.428571   \n",
       "29                 0.714286                0.285714   \n",
       "..                      ...                     ...   \n",
       "120                0.000000                1.000000   \n",
       "121                0.636364                0.142857   \n",
       "122                0.012987                0.285714   \n",
       "123                0.246753                0.000000   \n",
       "124                1.000000                1.000000   \n",
       "125                0.636364                0.571429   \n",
       "126                0.285714                1.000000   \n",
       "127                0.844156                0.000000   \n",
       "128                0.857143                0.000000   \n",
       "129                0.012987                0.428571   \n",
       "130                0.012987                0.000000   \n",
       "131                0.012987                0.428571   \n",
       "132                0.844156                0.285714   \n",
       "133                0.012987                0.000000   \n",
       "134                0.571429                0.285714   \n",
       "135                0.012987                0.428571   \n",
       "136                0.571429                0.142857   \n",
       "137                0.012987                0.571429   \n",
       "138                0.844156                0.428571   \n",
       "139                0.285714                1.000000   \n",
       "140                0.844156                0.571429   \n",
       "141                0.389610                0.285714   \n",
       "142                0.857143                0.428571   \n",
       "143                0.571429                0.571429   \n",
       "144                0.285714                0.428571   \n",
       "145                0.285714                1.000000   \n",
       "146                0.389610                0.142857   \n",
       "147                0.012987                0.571429   \n",
       "148                0.571429                0.428571   \n",
       "149                0.012987                1.000000   \n",
       "\n",
       "     normalized_conversion_ratio  \n",
       "0                       0.883784  \n",
       "1                       0.566667  \n",
       "2                       0.142342  \n",
       "3                       0.059009  \n",
       "4                       0.910360  \n",
       "5                       0.676126  \n",
       "6                       0.957207  \n",
       "7                       0.536937  \n",
       "8                       0.103153  \n",
       "9                       0.906757  \n",
       "10                      0.531532  \n",
       "11                      0.113964  \n",
       "12                      0.787838  \n",
       "13                      0.044144  \n",
       "14                      0.000901  \n",
       "15                      0.195495  \n",
       "16                      0.648198  \n",
       "17                      0.644144  \n",
       "18                      0.920721  \n",
       "19                      0.760360  \n",
       "20                      0.098198  \n",
       "21                      0.073874  \n",
       "22                      0.570270  \n",
       "23                      0.715315  \n",
       "24                      0.342342  \n",
       "25                      0.028829  \n",
       "26                      0.917568  \n",
       "27                      0.548198  \n",
       "28                      0.002703  \n",
       "29                      0.823874  \n",
       "..                           ...  \n",
       "120                     0.207658  \n",
       "121                     0.268468  \n",
       "122                     0.641441  \n",
       "123                     0.927477  \n",
       "124                     0.759459  \n",
       "125                     0.221622  \n",
       "126                     0.346396  \n",
       "127                     0.074324  \n",
       "128                     0.221171  \n",
       "129                     0.473423  \n",
       "130                     0.064414  \n",
       "131                     0.820721  \n",
       "132                     0.484234  \n",
       "133                     0.781081  \n",
       "134                     0.361261  \n",
       "135                     0.104505  \n",
       "136                     0.097297  \n",
       "137                     0.742793  \n",
       "138                     0.372523  \n",
       "139                     0.254505  \n",
       "140                     0.712162  \n",
       "141                     0.386486  \n",
       "142                     0.777928  \n",
       "143                     0.456306  \n",
       "144                     0.117568  \n",
       "145                     0.395946  \n",
       "146                     0.962613  \n",
       "147                     0.897748  \n",
       "148                     0.241441  \n",
       "149                     0.222523  \n",
       "\n",
       "[150 rows x 6 columns]>"
      ]
     },
     "execution_count": 204,
     "metadata": {},
     "output_type": "execute_result"
    }
   ],
   "source": [
    "#Normalize the testing dataset\n",
    "from sklearn import preprocessing\n",
    "\n",
    "normalized_test_data = preprocessing.MinMaxScaler().fit_transform(test_data.values)\n",
    "\n",
    "normalized_test_data = pd.DataFrame(normalized_test_data)\n",
    "normalized_test_data.columns=['normalized_age','normalized_rok_index','normalized_rok_summation',\n",
    "                              'normalized_promo_value','normalized_event_value','normalized_conversion_ratio']\n",
    "normalized_test_data.head"
   ]
  },
  {
   "cell_type": "raw",
   "metadata": {},
   "source": [
    "Find Correlation for each class"
   ]
  },
  {
   "cell_type": "code",
   "execution_count": 205,
   "metadata": {},
   "outputs": [
    {
     "data": {
      "text/plain": [
       "b                  -0.510964\n",
       "c                  -0.477833\n",
       "rok_index          -0.078046\n",
       "promo_value        -0.067368\n",
       "conversion_ratio   -0.059473\n",
       "rok_summation       0.006529\n",
       "age                 0.010026\n",
       "event_value         0.087817\n",
       "a                   1.000000\n",
       "Name: a, dtype: float64"
      ]
     },
     "execution_count": 205,
     "metadata": {},
     "output_type": "execute_result"
    }
   ],
   "source": [
    "dummy_df.corr()['a'].sort_values()"
   ]
  },
  {
   "cell_type": "code",
   "execution_count": 206,
   "metadata": {},
   "outputs": [
    {
     "data": {
      "text/plain": [
       "a                  -0.510964\n",
       "c                  -0.510964\n",
       "age                -0.031986\n",
       "rok_index           0.006605\n",
       "promo_value         0.030621\n",
       "rok_summation       0.036020\n",
       "conversion_ratio    0.036200\n",
       "event_value         0.080550\n",
       "b                   1.000000\n",
       "Name: b, dtype: float64"
      ]
     },
     "execution_count": 206,
     "metadata": {},
     "output_type": "execute_result"
    }
   ],
   "source": [
    "dummy_df.corr()['b'].sort_values()"
   ]
  },
  {
   "cell_type": "code",
   "execution_count": 207,
   "metadata": {},
   "outputs": [
    {
     "data": {
      "text/plain": [
       "b                  -0.510964\n",
       "a                  -0.477833\n",
       "event_value        -0.170133\n",
       "rok_summation      -0.043339\n",
       "conversion_ratio    0.022479\n",
       "age                 0.022661\n",
       "promo_value         0.036075\n",
       "rok_index           0.071296\n",
       "c                   1.000000\n",
       "Name: c, dtype: float64"
      ]
     },
     "execution_count": 207,
     "metadata": {},
     "output_type": "execute_result"
    }
   ],
   "source": [
    "dummy_df.corr()['c'].sort_values()"
   ]
  },
  {
   "cell_type": "raw",
   "metadata": {},
   "source": [
    "Find central tendencies and fluctuation rates of features."
   ]
  },
  {
   "cell_type": "code",
   "execution_count": 208,
   "metadata": {},
   "outputs": [
    {
     "name": "stdout",
     "output_type": "stream",
     "text": [
      "count    300.000000\n",
      "mean      29.776667\n",
      "std       11.863780\n",
      "min       10.000000\n",
      "25%       20.000000\n",
      "50%       30.000000\n",
      "75%       40.000000\n",
      "max       50.000000\n",
      "Name: age, dtype: float64\n"
     ]
    },
    {
     "name": "stderr",
     "output_type": "stream",
     "text": [
      "C:\\Users\\Public\\Anaconda3\\lib\\site-packages\\scipy\\stats\\stats.py:1713: FutureWarning: Using a non-tuple sequence for multidimensional indexing is deprecated; use `arr[tuple(seq)]` instead of `arr[seq]`. In the future this will be interpreted as an array index, `arr[np.array(seq)]`, which will result either in an error or a different result.\n",
      "  return np.add.reduce(sorted[indexer] * weights, axis=axis) / sumval\n"
     ]
    },
    {
     "data": {
      "image/png": "[encoded data removed]",
      "text/plain": [
       "<Figure size 648x576 with 1 Axes>"
      ]
     },
     "metadata": {
      "needs_background": "light"
     },
     "output_type": "display_data"
    }
   ],
   "source": [
    "print(train_data['age'].describe())\n",
    "plt.figure(figsize=(9, 8))\n",
    "sns.distplot(train_data['age'], color='g', bins=100, hist_kws={'alpha': 0.4});"
   ]
  },
  {
   "cell_type": "code",
   "execution_count": 209,
   "metadata": {},
   "outputs": [
    {
     "name": "stdout",
     "output_type": "stream",
     "text": [
      "count    300.000000\n",
      "mean       0.052900\n",
      "std        0.023899\n",
      "min        0.010000\n",
      "25%        0.030000\n",
      "50%        0.050000\n",
      "75%        0.070000\n",
      "max        0.090000\n",
      "Name: rok_index, dtype: float64\n"
     ]
    },
    {
     "name": "stderr",
     "output_type": "stream",
     "text": [
      "C:\\Users\\Public\\Anaconda3\\lib\\site-packages\\scipy\\stats\\stats.py:1713: FutureWarning: Using a non-tuple sequence for multidimensional indexing is deprecated; use `arr[tuple(seq)]` instead of `arr[seq]`. In the future this will be interpreted as an array index, `arr[np.array(seq)]`, which will result either in an error or a different result.\n",
      "  return np.add.reduce(sorted[indexer] * weights, axis=axis) / sumval\n"
     ]
    },
    {
     "data": {
      "image/png": "[encoded data removed]",
      "text/plain": [
       "<Figure size 648x576 with 1 Axes>"
      ]
     },
     "metadata": {
      "needs_background": "light"
     },
     "output_type": "display_data"
    }
   ],
   "source": [
    "print(train_data['rok_index'].describe())\n",
    "plt.figure(figsize=(9, 8))\n",
    "sns.distplot(train_data['rok_index'], color='g', bins=100, hist_kws={'alpha': 0.4});"
   ]
  },
  {
   "cell_type": "code",
   "execution_count": 210,
   "metadata": {},
   "outputs": [
    {
     "name": "stdout",
     "output_type": "stream",
     "text": [
      "count     300.000000\n",
      "mean     4961.773333\n",
      "std      2301.284968\n",
      "min      1035.000000\n",
      "25%      2952.000000\n",
      "50%      4958.500000\n",
      "75%      6861.250000\n",
      "max      8966.000000\n",
      "Name: rok_summation, dtype: float64\n"
     ]
    },
    {
     "name": "stderr",
     "output_type": "stream",
     "text": [
      "C:\\Users\\Public\\Anaconda3\\lib\\site-packages\\scipy\\stats\\stats.py:1713: FutureWarning: Using a non-tuple sequence for multidimensional indexing is deprecated; use `arr[tuple(seq)]` instead of `arr[seq]`. In the future this will be interpreted as an array index, `arr[np.array(seq)]`, which will result either in an error or a different result.\n",
      "  return np.add.reduce(sorted[indexer] * weights, axis=axis) / sumval\n"
     ]
    },
    {
     "data": {
      "image/png": "[encoded data removed]",
      "text/plain": [
       "<Figure size 648x576 with 1 Axes>"
      ]
     },
     "metadata": {
      "needs_background": "light"
     },
     "output_type": "display_data"
    }
   ],
   "source": [
    "print(train_data['rok_summation'].describe())\n",
    "plt.figure(figsize=(9, 8))\n",
    "sns.distplot(train_data['rok_summation'], color='g', bins=100, hist_kws={'alpha': 0.4});"
   ]
  },
  {
   "cell_type": "code",
   "execution_count": 211,
   "metadata": {},
   "outputs": [
    {
     "name": "stdout",
     "output_type": "stream",
     "text": [
      "count    300.000000\n",
      "mean      49.540000\n",
      "std       23.669161\n",
      "min       12.000000\n",
      "25%       34.000000\n",
      "50%       42.000000\n",
      "75%       77.000000\n",
      "max       89.000000\n",
      "Name: promo_value, dtype: float64\n"
     ]
    },
    {
     "name": "stderr",
     "output_type": "stream",
     "text": [
      "C:\\Users\\Public\\Anaconda3\\lib\\site-packages\\scipy\\stats\\stats.py:1713: FutureWarning: Using a non-tuple sequence for multidimensional indexing is deprecated; use `arr[tuple(seq)]` instead of `arr[seq]`. In the future this will be interpreted as an array index, `arr[np.array(seq)]`, which will result either in an error or a different result.\n",
      "  return np.add.reduce(sorted[indexer] * weights, axis=axis) / sumval\n"
     ]
    },
    {
     "data": {
      "image/png": "[encoded data removed]",
      "text/plain": [
       "<Figure size 648x576 with 1 Axes>"
      ]
     },
     "metadata": {
      "needs_background": "light"
     },
     "output_type": "display_data"
    }
   ],
   "source": [
    "print(train_data['promo_value'].describe())\n",
    "plt.figure(figsize=(9, 8))\n",
    "sns.distplot(train_data['promo_value'], color='g', bins=100, hist_kws={'alpha': 0.4});"
   ]
  },
  {
   "cell_type": "code",
   "execution_count": 212,
   "metadata": {},
   "outputs": [
    {
     "name": "stdout",
     "output_type": "stream",
     "text": [
      "count    300.000000\n",
      "mean       2.863333\n",
      "std        2.296862\n",
      "min        0.000000\n",
      "25%        1.000000\n",
      "50%        3.000000\n",
      "75%        4.000000\n",
      "max        7.000000\n",
      "Name: event_value, dtype: float64\n"
     ]
    },
    {
     "name": "stderr",
     "output_type": "stream",
     "text": [
      "C:\\Users\\Public\\Anaconda3\\lib\\site-packages\\scipy\\stats\\stats.py:1713: FutureWarning: Using a non-tuple sequence for multidimensional indexing is deprecated; use `arr[tuple(seq)]` instead of `arr[seq]`. In the future this will be interpreted as an array index, `arr[np.array(seq)]`, which will result either in an error or a different result.\n",
      "  return np.add.reduce(sorted[indexer] * weights, axis=axis) / sumval\n"
     ]
    },
    {
     "data": {
      "image/png": "[encoded data removed]",
      "text/plain": [
       "<Figure size 648x576 with 1 Axes>"
      ]
     },
     "metadata": {
      "needs_background": "light"
     },
     "output_type": "display_data"
    }
   ],
   "source": [
    "print(train_data['event_value'].describe())\n",
    "plt.figure(figsize=(9, 8))\n",
    "sns.distplot(train_data['event_value'], color='g', bins=100, hist_kws={'alpha': 0.4});"
   ]
  },
  {
   "cell_type": "code",
   "execution_count": 213,
   "metadata": {},
   "outputs": [
    {
     "name": "stdout",
     "output_type": "stream",
     "text": [
      "count    300.000000\n",
      "mean      23.489700\n",
      "std        6.163415\n",
      "min       12.250000\n",
      "25%       18.975000\n",
      "50%       23.225000\n",
      "75%       28.385000\n",
      "max       34.540000\n",
      "Name: conversion_ratio, dtype: float64\n"
     ]
    },
    {
     "name": "stderr",
     "output_type": "stream",
     "text": [
      "C:\\Users\\Public\\Anaconda3\\lib\\site-packages\\scipy\\stats\\stats.py:1713: FutureWarning: Using a non-tuple sequence for multidimensional indexing is deprecated; use `arr[tuple(seq)]` instead of `arr[seq]`. In the future this will be interpreted as an array index, `arr[np.array(seq)]`, which will result either in an error or a different result.\n",
      "  return np.add.reduce(sorted[indexer] * weights, axis=axis) / sumval\n"
     ]
    },
    {
     "data": {
      "image/png": "[encoded data removed]",
      "text/plain": [
       "<Figure size 648x576 with 1 Axes>"
      ]
     },
     "metadata": {
      "needs_background": "light"
     },
     "output_type": "display_data"
    }
   ],
   "source": [
    "print(train_data['conversion_ratio'].describe())\n",
    "plt.figure(figsize=(9, 8))\n",
    "sns.distplot(train_data['conversion_ratio'], color='g', bins=100, hist_kws={'alpha': 0.4});"
   ]
  },
  {
   "cell_type": "raw",
   "metadata": {},
   "source": [
    "Modal Class"
   ]
  },
  {
   "cell_type": "code",
   "execution_count": 214,
   "metadata": {},
   "outputs": [
    {
     "name": "stdout",
     "output_type": "stream",
     "text": [
      "count     300\n",
      "unique      3\n",
      "top         b\n",
      "freq      106\n",
      "Name: class, dtype: object\n"
     ]
    }
   ],
   "source": [
    "print(train_data['class'].describe())"
   ]
  },
  {
   "cell_type": "code",
   "execution_count": 215,
   "metadata": {},
   "outputs": [
    {
     "name": "stdout",
     "output_type": "stream",
     "text": [
      "0    b\n",
      "dtype: object\n"
     ]
    }
   ],
   "source": [
    "print(train_data['class'].mode())"
   ]
  },
  {
   "cell_type": "raw",
   "metadata": {},
   "source": [
    "Anamoly Detection"
   ]
  },
  {
   "cell_type": "code",
   "execution_count": 216,
   "metadata": {},
   "outputs": [
    {
     "data": {
      "text/plain": [
       "<matplotlib.axes._subplots.AxesSubplot at 0x27b2078acf8>"
      ]
     },
     "execution_count": 216,
     "metadata": {},
     "output_type": "execute_result"
    },
    {
     "data": {
      "image/png": "[encoded data removed]",
      "text/plain": [
       "<Figure size 432x288 with 1 Axes>"
      ]
     },
     "metadata": {
      "needs_background": "light"
     },
     "output_type": "display_data"
    }
   ],
   "source": [
    "sns.boxplot(x=train_data['age'])"
   ]
  },
  {
   "cell_type": "code",
   "execution_count": 217,
   "metadata": {},
   "outputs": [
    {
     "data": {
      "text/plain": [
       "<matplotlib.axes._subplots.AxesSubplot at 0x27b20896cf8>"
      ]
     },
     "execution_count": 217,
     "metadata": {},
     "output_type": "execute_result"
    },
    {
     "data": {
      "image/png": "[encoded data removed]",
      "text/plain": [
       "<Figure size 432x288 with 1 Axes>"
      ]
     },
     "metadata": {
      "needs_background": "light"
     },
     "output_type": "display_data"
    }
   ],
   "source": [
    "sns.boxplot(x=train_data['rok_index'])"
   ]
  },
  {
   "cell_type": "code",
   "execution_count": 218,
   "metadata": {},
   "outputs": [
    {
     "data": {
      "text/plain": [
       "<matplotlib.axes._subplots.AxesSubplot at 0x27b208e1b38>"
      ]
     },
     "execution_count": 218,
     "metadata": {},
     "output_type": "execute_result"
    },
    {
     "data": {
      "image/png": "[encoded data removed]",
      "text/plain": [
       "<Figure size 432x288 with 1 Axes>"
      ]
     },
     "metadata": {
      "needs_background": "light"
     },
     "output_type": "display_data"
    }
   ],
   "source": [
    "sns.boxplot(x=train_data['rok_summation']) "
   ]
  },
  {
   "cell_type": "code",
   "execution_count": 219,
   "metadata": {},
   "outputs": [
    {
     "data": {
      "text/plain": [
       "<matplotlib.axes._subplots.AxesSubplot at 0x27b21f24c88>"
      ]
     },
     "execution_count": 219,
     "metadata": {},
     "output_type": "execute_result"
    },
    {
     "data": {
      "image/png": "[encoded data removed]",
      "text/plain": [
       "<Figure size 432x288 with 1 Axes>"
      ]
     },
     "metadata": {
      "needs_background": "light"
     },
     "output_type": "display_data"
    }
   ],
   "source": [
    "sns.boxplot(x=train_data['promo_value'])"
   ]
  },
  {
   "cell_type": "code",
   "execution_count": 220,
   "metadata": {},
   "outputs": [
    {
     "data": {
      "text/plain": [
       "<matplotlib.axes._subplots.AxesSubplot at 0x27b21f940b8>"
      ]
     },
     "execution_count": 220,
     "metadata": {},
     "output_type": "execute_result"
    },
    {
     "data": {
      "image/png": "[encoded data removed]",
      "text/plain": [
       "<Figure size 432x288 with 1 Axes>"
      ]
     },
     "metadata": {
      "needs_background": "light"
     },
     "output_type": "display_data"
    }
   ],
   "source": [
    "sns.boxplot(x=train_data['event_value'])"
   ]
  },
  {
   "cell_type": "code",
   "execution_count": 221,
   "metadata": {},
   "outputs": [
    {
     "data": {
      "text/plain": [
       "<matplotlib.axes._subplots.AxesSubplot at 0x27b21ff6048>"
      ]
     },
     "execution_count": 221,
     "metadata": {},
     "output_type": "execute_result"
    },
    {
     "data": {
      "image/png": "[encoded data removed]",
      "text/plain": [
       "<Figure size 432x288 with 1 Axes>"
      ]
     },
     "metadata": {
      "needs_background": "light"
     },
     "output_type": "display_data"
    }
   ],
   "source": [
    "sns.boxplot(x=train_data['conversion_ratio'])"
   ]
  },
  {
   "cell_type": "markdown",
   "metadata": {},
   "source": [
    "# Answer the following questions on the EDA you have just performed:"
   ]
  },
  {
   "cell_type": "raw",
   "metadata": {},
   "source": [
    "a. What are the central tendencies you find?\n",
    "b. Measure the fluctuation rates for any data field ( Ex. age, rok_index etc).\n",
    "\n",
    "Name: age, dtype: float64\n",
    "mean      29.776667\n",
    "std       11.863780\n",
    "min       10.000000\n",
    "25%       20.000000\n",
    "50%       30.000000\n",
    "75%       40.000000\n",
    "max       50.000000\n",
    "-----------------------------------------------\n",
    "\n",
    "Name: rok_index, dtype: float64\n",
    "mean       0.052900\n",
    "std        0.023899\n",
    "min        0.010000\n",
    "25%        0.030000\n",
    "50%        0.050000\n",
    "75%        0.070000\n",
    "max        0.090000\n",
    "-----------------------------------------------\n",
    "\n",
    "Name: rok_summation, dtype: float64\n",
    "mean     4961.773333\n",
    "std      2301.284968\n",
    "min      1035.000000\n",
    "25%      2952.000000\n",
    "50%      4958.500000\n",
    "75%      6861.250000\n",
    "max      8966.000000\n",
    "------------------------------------------------\n",
    "\n",
    "mean      49.540000\n",
    "std       23.669161\n",
    "min       12.000000\n",
    "25%       34.000000\n",
    "50%       42.000000\n",
    "75%       77.000000\n",
    "max       89.000000\n",
    "Name: promo_value, dtype: float64\n",
    "------------------------------------------------\n",
    "\n",
    "Name: event_value, dtype: float64\n",
    "mean       2.863333\n",
    "std        2.296862\n",
    "min        0.000000\n",
    "25%        1.000000\n",
    "50%        3.000000\n",
    "75%        4.000000\n",
    "max        7.000000\n",
    "-------------------------------------------------\n",
    "\n",
    "Name: conversion_ratio, dtype: float64\n",
    "mean      23.489700\n",
    "std        6.163415\n",
    "min       12.250000\n",
    "25%       18.975000\n",
    "50%       23.225000\n",
    "75%       28.385000\n",
    "max       34.540000"
   ]
  },
  {
   "cell_type": "raw",
   "metadata": {},
   "source": [
    "c. (1)Which class does appear most in the “data.train” data set?\n",
    "\n",
    "    Modal class is b."
   ]
  },
  {
   "cell_type": "raw",
   "metadata": {},
   "source": [
    "c. (2)Are there any correlations with any other variables?\n",
    "\n",
    "Name: a, dtype: float64\n",
    "rok_index          -0.078046\n",
    "promo_value        -0.067368\n",
    "conversion_ratio   -0.059473\n",
    "rok_summation       0.006529\n",
    "age                 0.010026\n",
    "event_value         0.087817\n",
    "---------------------------------------\n",
    "\n",
    "Name: b, dtype: float64\n",
    "age                -0.031986\n",
    "rok_index           0.006605\n",
    "promo_value         0.030621\n",
    "rok_summation       0.036020\n",
    "conversion_ratio    0.036200\n",
    "event_value         0.080550\n",
    "--------------------------------------\n",
    "\n",
    "Name: c, dtype: float64\n",
    "event_value        -0.170133\n",
    "rok_summation      -0.043339\n",
    "conversion_ratio    0.022479\n",
    "age                 0.022661\n",
    "promo_value         0.036075\n",
    "rok_index           0.071296"
   ]
  },
  {
   "cell_type": "raw",
   "metadata": {},
   "source": [
    "d. Are there any anomalies?\n",
    "    The Box Plots show that none of the features have any anomalies"
   ]
  },
  {
   "cell_type": "markdown",
   "metadata": {},
   "source": [
    "# Milestone_TRES :"
   ]
  },
  {
   "cell_type": "markdown",
   "metadata": {},
   "source": [
    "# 1. Use Model of your choice to classify the “ data.test ”. (Using any Library, ML Packages or Frameworks)."
   ]
  },
  {
   "cell_type": "code",
   "execution_count": 274,
   "metadata": {},
   "outputs": [],
   "source": [
    "# Using raw dataset\n",
    "X_train = train_data\n",
    "X_train = X_train.drop(columns='class')\n",
    "y_train = train_data['class']\n",
    "\n",
    "X_test= test_data"
   ]
  },
  {
   "cell_type": "code",
   "execution_count": 225,
   "metadata": {},
   "outputs": [],
   "source": [
    "#training a linear SVM classifier \n",
    "from sklearn.svm import SVC \n",
    "svm_model_linear = SVC(kernel = 'linear', C = 1).fit(X_train, y_train) \n",
    "svm_predictions = svm_model_linear.predict(X_test) "
   ]
  },
  {
   "cell_type": "code",
   "execution_count": 226,
   "metadata": {},
   "outputs": [
    {
     "name": "stdout",
     "output_type": "stream",
     "text": [
      "['b' 'b' 'b' 'b' 'a' 'c' 'b' 'a' 'b' 'b' 'c' 'b' 'b' 'b' 'a' 'a' 'b' 'a'\n",
      " 'c' 'c' 'b' 'b' 'c' 'c' 'a' 'b' 'b' 'c' 'b' 'c' 'b' 'b' 'b' 'b' 'b' 'c'\n",
      " 'b' 'b' 'c' 'a' 'a' 'b' 'b' 'b' 'b' 'b' 'c' 'b' 'b' 'a' 'b' 'c' 'b' 'a'\n",
      " 'b' 'b' 'c' 'a' 'a' 'b' 'c' 'c' 'c' 'c' 'b' 'b' 'b' 'b' 'c' 'c' 'b' 'b'\n",
      " 'c' 'b' 'b' 'a' 'b' 'c' 'c' 'a' 'c' 'c' 'b' 'c' 'b' 'c' 'b' 'a' 'c' 'b'\n",
      " 'b' 'b' 'b' 'c' 'a' 'b' 'a' 'b' 'a' 'b' 'b' 'c' 'b' 'b' 'b' 'c' 'b' 'b'\n",
      " 'c' 'b' 'b' 'b' 'b' 'b' 'b' 'c' 'b' 'c' 'a' 'b' 'a' 'b' 'b' 'c' 'b' 'b'\n",
      " 'a' 'b' 'b' 'a' 'a' 'b' 'b' 'c' 'b' 'a' 'b' 'a' 'b' 'a' 'c' 'b' 'c' 'c'\n",
      " 'a' 'a' 'b' 'b' 'b' 'a']\n"
     ]
    }
   ],
   "source": [
    "print(svm_predictions)"
   ]
  },
  {
   "cell_type": "code",
   "execution_count": 275,
   "metadata": {},
   "outputs": [
    {
     "name": "stdout",
     "output_type": "stream",
     "text": [
      "['a' 'c' 'c' 'c' 'a' 'c' 'b' 'a' 'c' 'c' 'a' 'b' 'a' 'c' 'a' 'b' 'c' 'a'\n",
      " 'c' 'c' 'c' 'a' 'c' 'c' 'a' 'c' 'c' 'c' 'a' 'c' 'a' 'b' 'a' 'c' 'c' 'c'\n",
      " 'c' 'c' 'c' 'a' 'b' 'c' 'c' 'a' 'c' 'c' 'c' 'a' 'c' 'a' 'c' 'c' 'a' 'a'\n",
      " 'a' 'a' 'c' 'b' 'a' 'b' 'a' 'c' 'c' 'c' 'a' 'c' 'a' 'c' 'c' 'c' 'c' 'a'\n",
      " 'c' 'c' 'a' 'a' 'c' 'c' 'c' 'c' 'c' 'c' 'a' 'c' 'b' 'c' 'c' 'a' 'c' 'c'\n",
      " 'a' 'c' 'c' 'c' 'b' 'c' 'c' 'b' 'a' 'c' 'a' 'c' 'c' 'a' 'c' 'c' 'c' 'b'\n",
      " 'c' 'a' 'a' 'c' 'c' 'a' 'a' 'c' 'c' 'c' 'b' 'c' 'a' 'c' 'a' 'c' 'b' 'b'\n",
      " 'a' 'c' 'c' 'a' 'c' 'a' 'c' 'c' 'c' 'a' 'c' 'a' 'b' 'a' 'b' 'c' 'c' 'b'\n",
      " 'a' 'a' 'c' 'a' 'a' 'a']\n"
     ]
    }
   ],
   "source": [
    "# Using normalised dataset\n",
    "X_train = normalized_train_data\n",
    "X_train = X_train.drop(columns= ['a', 'b', 'c'])\n",
    "y_train = train_data['class']\n",
    "X_test= normalized_test_data\n",
    "\n",
    "#training a linear SVM classifie with normalized dataset\n",
    "from sklearn.svm import SVC \n",
    "svm_model_linear = SVC(kernel = 'linear', C = 1).fit(X_train, y_train) \n",
    "svm_predictions = svm_model_linear.predict(X_test)\n",
    "print(svm_predictions)"
   ]
  },
  {
   "cell_type": "markdown",
   "metadata": {},
   "source": [
    "# Use the model of your choice to classify the “ data.test ” using language of your choice. ( Without Using any Library, ML Packages or Frameworks )."
   ]
  },
  {
   "cell_type": "code",
   "execution_count": 592,
   "metadata": {},
   "outputs": [],
   "source": [
    "# Logistic Regression from scratch\n",
    "\n",
    "class LogisticRegression():\n",
    "    def __init__(self,X,y,in_dim,out_dim):\n",
    "        self.X = X\n",
    "        self.y = y\n",
    "        self.in_dim = in_dim\n",
    "        self.out_dim = out_dim\n",
    "        self.W = np.zeros((in_dim,out_dim))\n",
    "        self.b = np.zeros(out_dim)\n",
    "        self.learning_rate = 0.25\n",
    "        \n",
    "    # Fit funtion to train on the given data\n",
    "    def fit(self, epoch):\n",
    "        #The loop to run training\n",
    "        for i in range(epoch):\n",
    "            # Dot product of features X and weights W, add bias and then run through\n",
    "            #softmax activaion to get predicted value\n",
    "            prediction = self.softmax(np.dot(self.X,self.W) + self.b)\n",
    "            #print(prediction)\n",
    "            \n",
    "            difference = np.subtract(self.y,prediction)\n",
    "            \n",
    "            #Update weight and bias\n",
    "            self.W += self.learning_rate*((np.dot(self.X.T,difference)))\n",
    "            self.b += self.learning_rate * np.mean(difference, axis=0)\n",
    "            \n",
    "            #print(\"Weight:\", self.W)\n",
    "            #print(\"Bias:\", self.b) \n",
    "            #print(difference)\n",
    "            #cost = self.cross_entropy(prediction)\n",
    "            #print(cost)\n",
    "        \n",
    "    # Prediction function         \n",
    "    def predict(self,input_x):\n",
    "        return self.softmax(np.dot(input_x, self.W) + self.b)\n",
    "    \n",
    "    # Defining softmax activation function    \n",
    "    def softmax(self,x):\n",
    "        x -= np.max(x)\n",
    "        val = (np.exp(x).T/np.sum(np.exp(x),axis=1)).T\n",
    "        return val\n",
    "    \n",
    "    # Cross entropy for cost calculation\n",
    "    def cross_entropy(self,prediction):\n",
    "        c_entropy = -np.mean(np.sum(self.y * np.log(prediction)+(1 - self.y) * np.log(1 - prediction), axis=1))\n",
    "        return c_entropy"
   ]
  },
  {
   "cell_type": "code",
   "execution_count": 593,
   "metadata": {},
   "outputs": [
    {
     "name": "stdout",
     "output_type": "stream",
     "text": [
      "c\n",
      "a\n",
      "c\n",
      "a\n",
      "c\n",
      "a\n",
      "a\n",
      "a\n",
      "a\n",
      "a\n",
      "c\n",
      "c\n",
      "a\n",
      "a\n",
      "c\n",
      "a\n",
      "a\n",
      "a\n",
      "a\n",
      "a\n",
      "a\n",
      "a\n",
      "a\n",
      "c\n",
      "c\n",
      "c\n",
      "a\n",
      "a\n",
      "a\n",
      "c\n",
      "c\n",
      "a\n",
      "c\n",
      "c\n",
      "a\n",
      "c\n",
      "c\n",
      "a\n",
      "c\n",
      "a\n",
      "c\n",
      "a\n",
      "c\n",
      "c\n",
      "c\n",
      "a\n",
      "c\n",
      "c\n",
      "a\n",
      "a\n",
      "a\n",
      "a\n",
      "c\n",
      "a\n",
      "a\n",
      "c\n",
      "a\n",
      "c\n",
      "a\n",
      "a\n",
      "c\n",
      "c\n",
      "a\n",
      "c\n",
      "c\n",
      "c\n",
      "c\n",
      "a\n",
      "a\n",
      "a\n",
      "a\n",
      "c\n",
      "a\n",
      "a\n",
      "a\n",
      "a\n",
      "c\n",
      "a\n",
      "a\n",
      "c\n",
      "c\n",
      "c\n",
      "a\n",
      "a\n",
      "a\n",
      "a\n",
      "c\n",
      "c\n",
      "a\n",
      "a\n",
      "c\n",
      "c\n",
      "c\n",
      "a\n",
      "a\n",
      "a\n",
      "a\n",
      "c\n",
      "a\n",
      "a\n",
      "a\n",
      "c\n",
      "a\n",
      "a\n",
      "a\n",
      "a\n",
      "a\n",
      "a\n",
      "c\n",
      "c\n",
      "a\n",
      "a\n",
      "c\n",
      "c\n",
      "c\n",
      "c\n",
      "a\n",
      "c\n",
      "c\n",
      "a\n",
      "c\n",
      "a\n",
      "a\n",
      "a\n",
      "c\n",
      "c\n",
      "a\n",
      "c\n",
      "a\n",
      "c\n",
      "a\n",
      "a\n",
      "a\n",
      "a\n",
      "c\n",
      "c\n",
      "c\n",
      "a\n",
      "a\n",
      "a\n",
      "a\n",
      "c\n",
      "c\n",
      "a\n",
      "c\n",
      "c\n",
      "c\n",
      "c\n",
      "c\n",
      "a\n",
      "a\n",
      "a\n",
      "a\n",
      "c\n",
      "a\n",
      "c\n",
      "c\n",
      "a\n",
      "c\n",
      "c\n",
      "c\n",
      "a\n",
      "a\n",
      "c\n",
      "c\n",
      "a\n",
      "a\n",
      "c\n",
      "c\n",
      "a\n",
      "a\n",
      "a\n",
      "a\n",
      "a\n",
      "a\n",
      "a\n",
      "c\n",
      "a\n",
      "a\n",
      "a\n",
      "a\n",
      "a\n",
      "a\n",
      "a\n",
      "a\n",
      "a\n",
      "c\n",
      "c\n",
      "c\n",
      "c\n",
      "a\n",
      "a\n",
      "a\n",
      "c\n",
      "a\n",
      "a\n",
      "a\n",
      "a\n",
      "c\n",
      "c\n",
      "a\n",
      "c\n",
      "a\n",
      "a\n",
      "c\n",
      "a\n",
      "a\n",
      "a\n",
      "a\n",
      "a\n",
      "c\n",
      "a\n",
      "c\n",
      "a\n",
      "a\n",
      "a\n",
      "a\n",
      "a\n",
      "a\n",
      "a\n",
      "a\n",
      "a\n",
      "a\n",
      "c\n",
      "c\n",
      "c\n",
      "a\n",
      "c\n",
      "c\n",
      "a\n",
      "a\n",
      "a\n",
      "a\n",
      "c\n",
      "a\n",
      "a\n",
      "c\n",
      "a\n",
      "c\n",
      "c\n",
      "c\n",
      "a\n",
      "a\n",
      "a\n",
      "a\n",
      "a\n",
      "c\n",
      "a\n",
      "a\n",
      "a\n",
      "c\n",
      "c\n",
      "c\n",
      "a\n",
      "c\n",
      "a\n",
      "c\n",
      "a\n",
      "a\n",
      "a\n",
      "a\n",
      "a\n",
      "a\n",
      "a\n",
      "a\n",
      "a\n",
      "a\n",
      "a\n",
      "a\n",
      "c\n",
      "c\n",
      "c\n",
      "a\n",
      "a\n",
      "a\n",
      "c\n",
      "c\n",
      "a\n",
      "a\n",
      "c\n",
      "a\n",
      "c\n",
      "a\n",
      "a\n",
      "a\n",
      "a\n",
      "c\n",
      "c\n",
      "c\n",
      "a\n",
      "a\n",
      "c\n",
      "a\n",
      "a\n",
      "c\n",
      "a\n",
      "a\n",
      "a\n",
      "a\n",
      "a\n"
     ]
    }
   ],
   "source": [
    "\n",
    "input = normalized_train_data\n",
    "input = input.drop(columns=['a','b','c'])\n",
    "input = np.array(input)\n",
    "label = normalized_train_data[['a','b','c']]\n",
    "label = np.array(label,dtype=int)\n",
    "epoch = 250\n",
    "\n",
    "input_test = normalized_test_data\n",
    "\n",
    "#Number of features\n",
    "in_dim = input.shape[1]\n",
    "\n",
    "#Number of classes\n",
    "out_dim = 3\n",
    "\n",
    "LR = LogisticRegression(input,label, in_dim, out_dim)\n",
    "\n",
    "LR.fit(epoch)\n",
    "predicted_labels = LR.predict(input)\n",
    "label_index = predicted_labels.argmax(axis=1)\n",
    "\n",
    "for i in range(label_index.size):\n",
    "    if(label_index[i] == 0):\n",
    "        print('a')\n",
    "    elif(label_index[i] == 1):\n",
    "        print('b')\n",
    "    else:\n",
    "        print('c')"
   ]
  },
  {
   "cell_type": "markdown",
   "metadata": {},
   "source": [
    "# Argue on the performances of the Models in this given scenario."
   ]
  },
  {
   "cell_type": "code",
   "execution_count": 604,
   "metadata": {},
   "outputs": [
    {
     "name": "stdout",
     "output_type": "stream",
     "text": [
      "Accuracy of Scikit Learn SVM model : 26.666666666666668 %\n"
     ]
    }
   ],
   "source": [
    "#Accuracy of Library model\n",
    "X_train = normalized_train_data\n",
    "X_train = X_train.drop(columns= ['a', 'b', 'c'])\n",
    "X_train = X_train.values\n",
    "y_train = train_data['class']\n",
    "y_train = y_train.values\n",
    "\n",
    "from sklearn.model_selection import train_test_split\n",
    "X_train , X_test , y_train , y_test = train_test_split (X_train , y_train ,test_size = 0.25)\n",
    "\n",
    "# print(y_test[8])\n",
    "\n",
    "from sklearn.svm import SVC \n",
    "svm_model_linear = SVC(kernel = 'linear', C = 1).fit(X_train, y_train) \n",
    "svm_predictions = svm_model_linear.predict(X_test)\n",
    "#print(svm_predictions)\n",
    "\n",
    "count=0\n",
    "\n",
    "for i in range(svm_predictions.size):\n",
    "    if (svm_predictions[i]==y_test[i]):\n",
    "        count=count+1\n",
    "print('Accuracy of Scikit Learn SVM model : %s'% ((count/y_test.size)*100) ,'%') "
   ]
  },
  {
   "cell_type": "code",
   "execution_count": 605,
   "metadata": {},
   "outputs": [
    {
     "name": "stdout",
     "output_type": "stream",
     "text": [
      "Accuracy of Hand written Linear Regression model : 45.333332683046855 %\n"
     ]
    }
   ],
   "source": [
    "#Accuracy of model written from scratch\n",
    "\n",
    "X_train = normalized_train_data\n",
    "X_train = X_train.drop(columns= ['a', 'b', 'c'])\n",
    "X_train = np.array(X_train)\n",
    "y_train = normalized_train_data[['a','b','c']]\n",
    "y_train = np.array(y_train,dtype=int)\n",
    "epoch = 250\n",
    "\n",
    "from sklearn.model_selection import train_test_split\n",
    "X_train , X_test , y_train , y_test = train_test_split (X_train , y_train ,test_size = 0.25)\n",
    "\n",
    "#Number of features\n",
    "X_train.shape\n",
    "in_dim = X_train.shape[1]\n",
    "\n",
    "#Number of classes\n",
    "out_dim = 3\n",
    "\n",
    "\n",
    "LR = LogisticRegression(X_train,y_train, in_dim, out_dim)\n",
    "LR.fit(epoch)\n",
    "predicted_labels = LR.predict(X_test)\n",
    "\n",
    "#Mean Absolute Error\n",
    "mae = np.mean(abs(predicted_labels - y_test ))\n",
    "print('Accuracy of Hand written Linear Regression model : %s'% ((mae)*100) ,'%')"
   ]
  },
  {
   "cell_type": "code",
   "execution_count": null,
   "metadata": {},
   "outputs": [],
   "source": []
  }
 ],
 "metadata": {
  "kernelspec": {
   "display_name": "Python 3",
   "language": "python",
   "name": "python3"
  },
  "language_info": {
   "codemirror_mode": {
    "name": "ipython",
    "version": 3
   },
   "file_extension": ".py",
   "mimetype": "text/x-python",
   "name": "python",
   "nbconvert_exporter": "python",
   "pygments_lexer": "ipython3",
   "version": "3.7.0"
  }
 },
 "nbformat": 4,
 "nbformat_minor": 2
}
